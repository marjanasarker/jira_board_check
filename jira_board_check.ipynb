{
 "cells": [
  {
   "cell_type": "markdown",
   "id": "02b54d0a",
   "metadata": {},
   "source": [
    "Our team had an issue where people were assigning new user stories to a completely different Jira board via their active Sprint selection, which was causing some issues on the client side. Since I do not have admin privileges with the Jira board, I decided to write a little program where I take a csv file and board number as parameters. Once these inputs are provided, the program can return the names of the Reporters for the misaligned user stories. This allows me to quickly track the misaligned stories by using the names returned."
   ]
  },
  {
   "cell_type": "code",
   "execution_count": 1,
   "id": "cdea2c61",
   "metadata": {},
   "outputs": [],
   "source": [
    "def board_check(file_name, board):\n",
    "    import pandas as pd\n",
    "    \n",
    "    jira_df = pd.read_csv(file_name)\n",
    "    jira_df.dropna(axis=0, subset=('Sprint', ), inplace=True)\n",
    "    jira_df['Sprint'] = jira_df['Sprint'].astype('string') \n",
    "    names = jira_df.loc[jira_df['Sprint'].str.contains(board)==False, 'Reporter']\n",
    "    return names"
   ]
  },
  {
   "cell_type": "code",
   "execution_count": 5,
   "id": "c656fd4b",
   "metadata": {},
   "outputs": [
    {
     "data": {
      "text/plain": [
       "Series([], Name: Reporter, dtype: object)"
      ]
     },
     "execution_count": 5,
     "metadata": {},
     "output_type": "execute_result"
    }
   ],
   "source": [
    "board_check(file_name, board)"
   ]
  },
  {
   "cell_type": "code",
   "execution_count": null,
   "id": "6d7a5c3f",
   "metadata": {},
   "outputs": [],
   "source": []
  }
 ],
 "metadata": {
  "kernelspec": {
   "display_name": "Python 3",
   "language": "python",
   "name": "python3"
  },
  "language_info": {
   "codemirror_mode": {
    "name": "ipython",
    "version": 3
   },
   "file_extension": ".py",
   "mimetype": "text/x-python",
   "name": "python",
   "nbconvert_exporter": "python",
   "pygments_lexer": "ipython3",
   "version": "3.8.8"
  }
 },
 "nbformat": 4,
 "nbformat_minor": 5
}
