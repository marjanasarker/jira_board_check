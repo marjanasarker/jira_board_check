{
 "cells": [
  {
   "cell_type": "code",
   "execution_count": null,
   "id": "10e5eac6",
   "metadata": {},
   "outputs": [],
   "source": [
    "import pandas as pd\n",
    "import numpy as np\n",
    "import regex as re"
   ]
  },
  {
   "cell_type": "markdown",
   "id": "02b54d0a",
   "metadata": {},
   "source": [
    "Our team had an issue where people were assigning new user stories to a completely different Jira board via their active Sprint selection, which was causing some issues on the client side. Since I do not have admin privileges with the Jira board, I decided to write a function where I take a csv file and board number as parameters. Once these inputs are provided, the program can return the names of the Reporters for the misaligned user stories. This allows me to quickly track the misaligned stories by using the names returned."
   ]
  },
  {
   "cell_type": "code",
   "execution_count": null,
   "id": "cdea2c61",
   "metadata": {},
   "outputs": [],
   "source": [
    "def board_check(jira_file, board):\n",
    "    \n",
    "    # converting csv file to df\n",
    "    jira_df = pd.read_csv(jira_file)\n",
    "    \n",
    "    #drop empty records under Sprint\n",
    "    jira_df.dropna(axis=0, subset=('Sprint', ), inplace=True)\n",
    "    \n",
    "    #change datatype of column to string\n",
    "    jira_df['Sprint'] = jira_df['Sprint'].astype('string') \n",
    "    \n",
    "    #run check on whether the user story is place in the right board for active sprint\n",
    "    names = jira_df.loc[jira_df['Sprint'].str.contains(board)==False, 'Reporter']\n",
    "    return names"
   ]
  },
  {
   "cell_type": "code",
   "execution_count": null,
   "id": "c656fd4b",
   "metadata": {},
   "outputs": [],
   "source": [
    "board_check(jira_file, board)"
   ]
  },
  {
   "cell_type": "markdown",
   "id": "e0979d96",
   "metadata": {},
   "source": [
    "The next function is to find individuals in the team who have created or were assigned user stories. Our project has 90 active members and it has been difficult to keep an account of all users being assigned or creating stories. Sometimes the user is not aware of the different sections that they have to complete when creating a user story. In this function, the parameters include the current Jira csv file and the project roster also in csv format and gives us a list of people from the project who have active user stories and those that do not. Jira currently does not have the capability of filtering for unique users."
   ]
  },
  {
   "cell_type": "code",
   "execution_count": null,
   "id": "cb1672f7",
   "metadata": {},
   "outputs": [],
   "source": [
    "def active_users(jira_file, current_project_mem_file):\n",
    "        \n",
    "    # converting csv files to df\n",
    "    jira_df = pd.read_csv(jira_file)\n",
    "    current_mem_df = pd.read_csv(current_project_mem_file)\n",
    "    \n",
    "    # combining user names under the creator, assignee and reporter column\n",
    "    # creating set to only list unique names since jira does not have the distinct feature\n",
    "    creator_list = (jira_df['Creator'].unique()).tolist()\n",
    "    assignee_list = (jira_df['Assignee'].unique()).tolist()\n",
    "    reporter_list = (jira_df['Reporter'].unique()).tolist()\n",
    "    combined_jira_lists = creator_list + assignee_list + reporter_list\n",
    "    jira_user_set = set(combined_jira_lists)\n",
    "    \n",
    "    # setting the names in current_mem_df as set to run intersection \n",
    "    current_project_names = set(current_mem_df['Name'].unique())\n",
    "    \n",
    "    # set intersection to figure out which current project members also have active jira stories\n",
    "    active_user = list(current_project_names.intersection(jira_user_set))\n",
    "    active_user_set = set(active_user)\n",
    "    mem_not_jira = list(current_project_names.difference(active_user_set))\n",
    "    jira_not_mem = list(jira_user_set.difference(active_user_set))\n",
    "    \n",
    "    print(f\"Current project members with Jira stories: {active_user}\\n\\nCurrent members not using Jira: {mem_not_jira}\\n\\nJira usernames not in current project: {jira_not_mem}\")"
   ]
  },
  {
   "cell_type": "code",
   "execution_count": null,
   "id": "ee747566",
   "metadata": {},
   "outputs": [],
   "source": [
    "active_users(jira_file, current_project_mem_file)\n"
   ]
  },
  {
   "cell_type": "markdown",
   "id": "a8efccd0",
   "metadata": {},
   "source": [
    "The above active_members method is not fool proof since some members of the current project may have their names look different on the Jira board, which is why I also print out the leftover names to check with our current list of project members. Mmbers may have the first initial of their 1st name and their last name together. In the next cell I have a regex utilizing code snippet that can be added to the above function to accomodate those individuals, I have commented this out. You can then compare the last names instead if you user list, which in my case has all unique last names. "
   ]
  },
  {
   "cell_type": "code",
   "execution_count": null,
   "id": "fc441993",
   "metadata": {},
   "outputs": [],
   "source": [
    "#eg: MSarker would split to 'M Sarker'\n",
    "#for i in range(len(combined_jira_list)):\n",
    "    #if ' ' not in creator_list[i]:\n",
    "        #combined_jira_list[i] = ' '.join(re.findall('[A-Z][^A-Z]*', combined_jira_list[i])) \n",
    "#combined_jira_list"
   ]
  },
  {
   "cell_type": "code",
   "execution_count": null,
   "id": "366b6890",
   "metadata": {},
   "outputs": [],
   "source": []
  }
 ],
 "metadata": {
  "kernelspec": {
   "display_name": "Python 3",
   "language": "python",
   "name": "python3"
  },
  "language_info": {
   "codemirror_mode": {
    "name": "ipython",
    "version": 3
   },
   "file_extension": ".py",
   "mimetype": "text/x-python",
   "name": "python",
   "nbconvert_exporter": "python",
   "pygments_lexer": "ipython3",
   "version": "3.8.8"
  }
 },
 "nbformat": 4,
 "nbformat_minor": 5
}
